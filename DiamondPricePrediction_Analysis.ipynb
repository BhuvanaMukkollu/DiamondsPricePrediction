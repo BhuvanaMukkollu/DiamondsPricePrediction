{
 "cells": [
  {
   "cell_type": "code",
   "execution_count": 1,
   "id": "cd94314b",
   "metadata": {},
   "outputs": [],
   "source": [
    "import warnings\n",
    "warnings.filterwarnings('ignore')"
   ]
  },
  {
   "cell_type": "code",
   "execution_count": 2,
   "id": "a9533e1d",
   "metadata": {},
   "outputs": [],
   "source": [
    "#importing the libraries\n",
    "import numpy as np\n",
    "import pandas as pd\n",
    "import matplotlib.pyplot as plt\n",
    "import seaborn as sns\n",
    "from sklearn.preprocessing import OneHotEncoder, MinMaxScaler\n",
    "from sklearn.linear_model import LinearRegression\n",
    "from sklearn.model_selection import train_test_split\n",
    "from sklearn import metrics\n",
    "import statsmodels.api as sm\n",
    "from statsmodels.stats.outliers_influence import variance_inflation_factor\n",
    "from sklearn.metrics import mean_absolute_percentage_error\n",
    "from sklearn.metrics import mean_squared_error"
   ]
  },
  {
   "cell_type": "code",
   "execution_count": 3,
   "id": "72d19d47",
   "metadata": {},
   "outputs": [
    {
     "data": {
      "text/html": [
       "<div>\n",
       "<style scoped>\n",
       "    .dataframe tbody tr th:only-of-type {\n",
       "        vertical-align: middle;\n",
       "    }\n",
       "\n",
       "    .dataframe tbody tr th {\n",
       "        vertical-align: top;\n",
       "    }\n",
       "\n",
       "    .dataframe thead th {\n",
       "        text-align: right;\n",
       "    }\n",
       "</style>\n",
       "<table border=\"1\" class=\"dataframe\">\n",
       "  <thead>\n",
       "    <tr style=\"text-align: right;\">\n",
       "      <th></th>\n",
       "      <th>carat</th>\n",
       "      <th>cut</th>\n",
       "      <th>color</th>\n",
       "      <th>clarity</th>\n",
       "      <th>depth</th>\n",
       "      <th>table</th>\n",
       "      <th>price</th>\n",
       "      <th>x</th>\n",
       "      <th>y</th>\n",
       "      <th>z</th>\n",
       "    </tr>\n",
       "  </thead>\n",
       "  <tbody>\n",
       "    <tr>\n",
       "      <th>0</th>\n",
       "      <td>0.23</td>\n",
       "      <td>Ideal</td>\n",
       "      <td>E</td>\n",
       "      <td>SI2</td>\n",
       "      <td>61.5</td>\n",
       "      <td>55.0</td>\n",
       "      <td>326</td>\n",
       "      <td>3.95</td>\n",
       "      <td>3.98</td>\n",
       "      <td>2.43</td>\n",
       "    </tr>\n",
       "    <tr>\n",
       "      <th>1</th>\n",
       "      <td>0.21</td>\n",
       "      <td>Premium</td>\n",
       "      <td>E</td>\n",
       "      <td>SI1</td>\n",
       "      <td>59.8</td>\n",
       "      <td>61.0</td>\n",
       "      <td>326</td>\n",
       "      <td>3.89</td>\n",
       "      <td>3.84</td>\n",
       "      <td>2.31</td>\n",
       "    </tr>\n",
       "    <tr>\n",
       "      <th>2</th>\n",
       "      <td>0.23</td>\n",
       "      <td>Good</td>\n",
       "      <td>E</td>\n",
       "      <td>VS1</td>\n",
       "      <td>56.9</td>\n",
       "      <td>65.0</td>\n",
       "      <td>327</td>\n",
       "      <td>4.05</td>\n",
       "      <td>4.07</td>\n",
       "      <td>2.31</td>\n",
       "    </tr>\n",
       "    <tr>\n",
       "      <th>3</th>\n",
       "      <td>0.29</td>\n",
       "      <td>Premium</td>\n",
       "      <td>I</td>\n",
       "      <td>VS2</td>\n",
       "      <td>62.4</td>\n",
       "      <td>58.0</td>\n",
       "      <td>334</td>\n",
       "      <td>4.20</td>\n",
       "      <td>4.23</td>\n",
       "      <td>2.63</td>\n",
       "    </tr>\n",
       "    <tr>\n",
       "      <th>4</th>\n",
       "      <td>0.31</td>\n",
       "      <td>Good</td>\n",
       "      <td>J</td>\n",
       "      <td>SI2</td>\n",
       "      <td>63.3</td>\n",
       "      <td>58.0</td>\n",
       "      <td>335</td>\n",
       "      <td>4.34</td>\n",
       "      <td>4.35</td>\n",
       "      <td>2.75</td>\n",
       "    </tr>\n",
       "  </tbody>\n",
       "</table>\n",
       "</div>"
      ],
      "text/plain": [
       "   carat      cut color clarity  depth  table  price     x     y     z\n",
       "0   0.23    Ideal     E     SI2   61.5   55.0    326  3.95  3.98  2.43\n",
       "1   0.21  Premium     E     SI1   59.8   61.0    326  3.89  3.84  2.31\n",
       "2   0.23     Good     E     VS1   56.9   65.0    327  4.05  4.07  2.31\n",
       "3   0.29  Premium     I     VS2   62.4   58.0    334  4.20  4.23  2.63\n",
       "4   0.31     Good     J     SI2   63.3   58.0    335  4.34  4.35  2.75"
      ]
     },
     "execution_count": 3,
     "metadata": {},
     "output_type": "execute_result"
    }
   ],
   "source": [
    "#loading the data\n",
    "data = pd.read_csv('DiamondsPrices.csv')\n",
    "data.head()"
   ]
  },
  {
   "cell_type": "code",
   "execution_count": 4,
   "id": "0c8de99d",
   "metadata": {},
   "outputs": [
    {
     "data": {
      "text/html": [
       "<div>\n",
       "<style scoped>\n",
       "    .dataframe tbody tr th:only-of-type {\n",
       "        vertical-align: middle;\n",
       "    }\n",
       "\n",
       "    .dataframe tbody tr th {\n",
       "        vertical-align: top;\n",
       "    }\n",
       "\n",
       "    .dataframe thead th {\n",
       "        text-align: right;\n",
       "    }\n",
       "</style>\n",
       "<table border=\"1\" class=\"dataframe\">\n",
       "  <thead>\n",
       "    <tr style=\"text-align: right;\">\n",
       "      <th></th>\n",
       "      <th>carat</th>\n",
       "      <th>cut</th>\n",
       "      <th>color</th>\n",
       "      <th>clarity</th>\n",
       "      <th>depth</th>\n",
       "      <th>table</th>\n",
       "      <th>price</th>\n",
       "      <th>volume</th>\n",
       "    </tr>\n",
       "  </thead>\n",
       "  <tbody>\n",
       "    <tr>\n",
       "      <th>0</th>\n",
       "      <td>0.23</td>\n",
       "      <td>Ideal</td>\n",
       "      <td>E</td>\n",
       "      <td>SI2</td>\n",
       "      <td>61.5</td>\n",
       "      <td>55.0</td>\n",
       "      <td>326</td>\n",
       "      <td>38.202030</td>\n",
       "    </tr>\n",
       "    <tr>\n",
       "      <th>1</th>\n",
       "      <td>0.21</td>\n",
       "      <td>Premium</td>\n",
       "      <td>E</td>\n",
       "      <td>SI1</td>\n",
       "      <td>59.8</td>\n",
       "      <td>61.0</td>\n",
       "      <td>326</td>\n",
       "      <td>34.505856</td>\n",
       "    </tr>\n",
       "    <tr>\n",
       "      <th>2</th>\n",
       "      <td>0.23</td>\n",
       "      <td>Good</td>\n",
       "      <td>E</td>\n",
       "      <td>VS1</td>\n",
       "      <td>56.9</td>\n",
       "      <td>65.0</td>\n",
       "      <td>327</td>\n",
       "      <td>38.076885</td>\n",
       "    </tr>\n",
       "    <tr>\n",
       "      <th>3</th>\n",
       "      <td>0.29</td>\n",
       "      <td>Premium</td>\n",
       "      <td>I</td>\n",
       "      <td>VS2</td>\n",
       "      <td>62.4</td>\n",
       "      <td>58.0</td>\n",
       "      <td>334</td>\n",
       "      <td>46.724580</td>\n",
       "    </tr>\n",
       "    <tr>\n",
       "      <th>4</th>\n",
       "      <td>0.31</td>\n",
       "      <td>Good</td>\n",
       "      <td>J</td>\n",
       "      <td>SI2</td>\n",
       "      <td>63.3</td>\n",
       "      <td>58.0</td>\n",
       "      <td>335</td>\n",
       "      <td>51.917250</td>\n",
       "    </tr>\n",
       "  </tbody>\n",
       "</table>\n",
       "</div>"
      ],
      "text/plain": [
       "   carat      cut color clarity  depth  table  price     volume\n",
       "0   0.23    Ideal     E     SI2   61.5   55.0    326  38.202030\n",
       "1   0.21  Premium     E     SI1   59.8   61.0    326  34.505856\n",
       "2   0.23     Good     E     VS1   56.9   65.0    327  38.076885\n",
       "3   0.29  Premium     I     VS2   62.4   58.0    334  46.724580\n",
       "4   0.31     Good     J     SI2   63.3   58.0    335  51.917250"
      ]
     },
     "execution_count": 4,
     "metadata": {},
     "output_type": "execute_result"
    }
   ],
   "source": [
    "data['volume'] = data['x'] * data['y'] * data['z']\n",
    "data = data.drop(columns= ['x','y','z'])\n",
    "data.head()"
   ]
  },
  {
   "cell_type": "code",
   "execution_count": 5,
   "id": "d9cd3b4a",
   "metadata": {},
   "outputs": [
    {
     "name": "stdout",
     "output_type": "stream",
     "text": [
      "<class 'pandas.core.frame.DataFrame'>\n",
      "RangeIndex: 53940 entries, 0 to 53939\n",
      "Data columns (total 8 columns):\n",
      " #   Column   Non-Null Count  Dtype  \n",
      "---  ------   --------------  -----  \n",
      " 0   carat    53940 non-null  float64\n",
      " 1   cut      53940 non-null  object \n",
      " 2   color    53940 non-null  object \n",
      " 3   clarity  53940 non-null  object \n",
      " 4   depth    53940 non-null  float64\n",
      " 5   table    53940 non-null  float64\n",
      " 6   price    53940 non-null  int64  \n",
      " 7   volume   53940 non-null  float64\n",
      "dtypes: float64(4), int64(1), object(3)\n",
      "memory usage: 3.3+ MB\n"
     ]
    }
   ],
   "source": [
    "data.info()"
   ]
  },
  {
   "cell_type": "code",
   "execution_count": 6,
   "id": "997c10d7",
   "metadata": {},
   "outputs": [
    {
     "data": {
      "text/plain": [
       "(53794, 8)"
      ]
     },
     "execution_count": 6,
     "metadata": {},
     "output_type": "execute_result"
    }
   ],
   "source": [
    "#treating duplicates\n",
    "#dropping the duplicate values\n",
    "data.drop_duplicates(keep='first', inplace=True)\n",
    "data.shape"
   ]
  },
  {
   "cell_type": "code",
   "execution_count": 7,
   "id": "1a4b9de0",
   "metadata": {},
   "outputs": [
    {
     "name": "stdout",
     "output_type": "stream",
     "text": [
      "Number of zeros in carat is 0\n",
      "Number of zeros in cut is 0\n",
      "Number of zeros in color is 0\n",
      "Number of zeros in clarity is 0\n",
      "Number of zeros in depth is 0\n",
      "Number of zeros in table is 0\n",
      "Number of zeros in price is 0\n",
      "Number of zeros in volume is 19\n"
     ]
    }
   ],
   "source": [
    "#treating the null values\n",
    "for column in data:\n",
    "    print((\"Number of zeros in {} is {}\".format(column,(data[column]==0).sum())))"
   ]
  },
  {
   "cell_type": "code",
   "execution_count": 8,
   "id": "b470be07",
   "metadata": {},
   "outputs": [
    {
     "data": {
      "text/plain": [
       "(53775, 8)"
      ]
     },
     "execution_count": 8,
     "metadata": {},
     "output_type": "execute_result"
    }
   ],
   "source": [
    "#dropping all zero values from x,y and z columns\n",
    "data = data[(data[['volume']] != 0).all(axis=1)]\n",
    "data.shape"
   ]
  },
  {
   "cell_type": "code",
   "execution_count": 9,
   "id": "928a2b91",
   "metadata": {},
   "outputs": [
    {
     "name": "stdout",
     "output_type": "stream",
     "text": [
      "carat         2.000000\n",
      "depth        64.750000\n",
      "table        63.500000\n",
      "price     11883.500000\n",
      "volume      329.276638\n",
      "dtype: float64\n",
      "carat       -0.560000\n",
      "depth       58.750000\n",
      "table       51.500000\n",
      "price    -5608.500000\n",
      "volume     -93.222606\n",
      "dtype: float64\n"
     ]
    },
    {
     "data": {
      "text/plain": [
       "(47408, 8)"
      ]
     },
     "execution_count": 9,
     "metadata": {},
     "output_type": "execute_result"
    }
   ],
   "source": [
    "#calculating the quantiles q1, q3\n",
    "q1 = data.quantile(0.25)\n",
    "q3 = data.quantile(0.75)\n",
    "\n",
    "\n",
    "#calculating the IQR\n",
    "IQR = q3-q1\n",
    "\n",
    "#calculating the upper limit\n",
    "u_l = q3+(1.5*IQR)\n",
    "\n",
    "#CALCULATING THE lower_limit\n",
    "l_l = q1-(1.5*IQR)\n",
    "\n",
    "print(u_l)\n",
    "print(l_l)\n",
    "\n",
    "#dropping the upper outliers\n",
    "data = data[~((data > u_l).any(axis=1) | (data < l_l).any(axis=1))]\n",
    "data.shape"
   ]
  },
  {
   "cell_type": "code",
   "execution_count": 10,
   "id": "3258195d",
   "metadata": {},
   "outputs": [
    {
     "name": "stdout",
     "output_type": "stream",
     "text": [
      "carat       0.38000\n",
      "depth      61.10000\n",
      "table      56.00000\n",
      "price     891.00000\n",
      "volume     61.75494\n",
      "Name: 0.25, dtype: float64\n",
      "carat        1.010000\n",
      "depth       62.500000\n",
      "table       59.000000\n",
      "price     4637.000000\n",
      "volume     163.428804\n",
      "Name: 0.75, dtype: float64\n"
     ]
    }
   ],
   "source": [
    "#calculating the quantiles q1, q3\n",
    "Q1 = data.quantile(0.25)\n",
    "Q3 = data.quantile(0.75)\n",
    "print(Q1)\n",
    "print(Q3)"
   ]
  },
  {
   "cell_type": "code",
   "execution_count": 11,
   "id": "90f25c3c",
   "metadata": {},
   "outputs": [
    {
     "data": {
      "text/plain": [
       "carat        0.630000\n",
       "depth        1.400000\n",
       "table        3.000000\n",
       "price     3746.000000\n",
       "volume     101.673864\n",
       "dtype: float64"
      ]
     },
     "execution_count": 11,
     "metadata": {},
     "output_type": "execute_result"
    }
   ],
   "source": [
    "#calculating the IQR\n",
    "iqr = Q3-Q1\n",
    "iqr"
   ]
  },
  {
   "cell_type": "code",
   "execution_count": 12,
   "id": "e271dfdc",
   "metadata": {},
   "outputs": [
    {
     "name": "stdout",
     "output_type": "stream",
     "text": [
      "carat         1.9550\n",
      "depth        64.6000\n",
      "table        63.5000\n",
      "price     10256.0000\n",
      "volume      315.9396\n",
      "dtype: float64\n",
      "carat       -0.565000\n",
      "depth       59.000000\n",
      "table       51.500000\n",
      "price    -4728.000000\n",
      "volume     -90.755856\n",
      "dtype: float64\n"
     ]
    }
   ],
   "source": [
    "#calculating the upper limit\n",
    "u = Q3+(1.5*iqr)\n",
    "\n",
    "#CALCULATING THE lower_limit\n",
    "l = Q1-(1.5*iqr)\n",
    "\n",
    "print(u)\n",
    "print(l)"
   ]
  },
  {
   "cell_type": "code",
   "execution_count": 13,
   "id": "aa8d3d3b",
   "metadata": {},
   "outputs": [
    {
     "data": {
      "text/plain": [
       "(45756, 8)"
      ]
     },
     "execution_count": 13,
     "metadata": {},
     "output_type": "execute_result"
    }
   ],
   "source": [
    "#dropping the upper outliers\n",
    "data = data[~((data > u).any(axis=1) | (data < l).any(axis=1))]\n",
    "data.shape"
   ]
  },
  {
   "cell_type": "code",
   "execution_count": 14,
   "id": "bae5134b",
   "metadata": {},
   "outputs": [
    {
     "name": "stdout",
     "output_type": "stream",
     "text": [
      "carat       0.370000\n",
      "depth      61.200000\n",
      "table      56.000000\n",
      "price     876.000000\n",
      "volume     60.507992\n",
      "Name: 0.25, dtype: float64\n",
      "carat        1.0100\n",
      "depth       62.5000\n",
      "table       59.0000\n",
      "price     4416.0000\n",
      "volume     161.4912\n",
      "Name: 0.75, dtype: float64\n"
     ]
    }
   ],
   "source": [
    "#calculating the quantiles q1, q3\n",
    "Q1_1 = data.quantile(0.25)\n",
    "Q3_3 = data.quantile(0.75)\n",
    "print(Q1_1)\n",
    "print(Q3_3)"
   ]
  },
  {
   "cell_type": "code",
   "execution_count": 15,
   "id": "94408da2",
   "metadata": {},
   "outputs": [
    {
     "data": {
      "text/plain": [
       "carat        0.640000\n",
       "depth        1.300000\n",
       "table        3.000000\n",
       "price     3540.000000\n",
       "volume     100.983208\n",
       "dtype: float64"
      ]
     },
     "execution_count": 15,
     "metadata": {},
     "output_type": "execute_result"
    }
   ],
   "source": [
    "#calculating the IQR\n",
    "iqr_1 = Q3_3-Q1_1\n",
    "iqr_1"
   ]
  },
  {
   "cell_type": "code",
   "execution_count": 16,
   "id": "57168c91",
   "metadata": {},
   "outputs": [],
   "source": [
    "#calculating the upper limit\n",
    "ul = Q3_3+(1.5*iqr_1)\n",
    "ll = Q1_1-(1.5*iqr_1)"
   ]
  },
  {
   "cell_type": "code",
   "execution_count": 17,
   "id": "1d1844f0",
   "metadata": {},
   "outputs": [
    {
     "name": "stdout",
     "output_type": "stream",
     "text": [
      "carat        0\n",
      "cut          0\n",
      "color        0\n",
      "clarity      0\n",
      "depth      585\n",
      "table        0\n",
      "price        0\n",
      "volume       0\n",
      "dtype: int64\n",
      "carat        0\n",
      "cut          0\n",
      "color        0\n",
      "clarity      0\n",
      "depth      180\n",
      "table        0\n",
      "price      472\n",
      "volume       0\n",
      "dtype: int64\n"
     ]
    }
   ],
   "source": [
    "#count of upper quantiles\n",
    "print(data[data<ll].count())\n",
    "print(data[data>ul].count())"
   ]
  },
  {
   "cell_type": "code",
   "execution_count": 18,
   "id": "4abede61",
   "metadata": {},
   "outputs": [
    {
     "data": {
      "text/plain": [
       "(44529, 8)"
      ]
     },
     "execution_count": 18,
     "metadata": {},
     "output_type": "execute_result"
    }
   ],
   "source": [
    "#dropping the upper outliers\n",
    "data = data[~((data > ul).any(axis=1) | (data < ll).any(axis=1))]\n",
    "data.shape"
   ]
  },
  {
   "cell_type": "code",
   "execution_count": 19,
   "id": "48c1d72f",
   "metadata": {},
   "outputs": [
    {
     "name": "stdout",
     "output_type": "stream",
     "text": [
      "carat       0.360000\n",
      "depth      61.200000\n",
      "table      56.000000\n",
      "price     870.000000\n",
      "volume     59.929794\n",
      "Name: 0.25, dtype: float64\n",
      "carat        1.000000\n",
      "depth       62.500000\n",
      "table       59.000000\n",
      "price     4326.000000\n",
      "volume     160.468581\n",
      "Name: 0.75, dtype: float64\n"
     ]
    }
   ],
   "source": [
    "#calculating the quantiles q1, q3\n",
    "Q_1 = data.quantile(0.25)\n",
    "Q_3 = data.quantile(0.75)\n",
    "print(Q_1)\n",
    "print(Q_3)"
   ]
  },
  {
   "cell_type": "code",
   "execution_count": 20,
   "id": "a6c2e8ca",
   "metadata": {},
   "outputs": [
    {
     "data": {
      "text/plain": [
       "carat        0.640000\n",
       "depth        1.300000\n",
       "table        3.000000\n",
       "price     3456.000000\n",
       "volume     100.538787\n",
       "dtype: float64"
      ]
     },
     "execution_count": 20,
     "metadata": {},
     "output_type": "execute_result"
    }
   ],
   "source": [
    "#calculating the IQR\n",
    "iqr1 = Q_3-Q_1\n",
    "iqr1"
   ]
  },
  {
   "cell_type": "code",
   "execution_count": 21,
   "id": "f1767129",
   "metadata": {},
   "outputs": [],
   "source": [
    "#calculating the upper limit\n",
    "ul = Q_3+(1.5*iqr1)\n",
    "ll = Q_1-(1.5*iqr1)"
   ]
  },
  {
   "cell_type": "code",
   "execution_count": 22,
   "id": "a4e548a0",
   "metadata": {},
   "outputs": [
    {
     "name": "stdout",
     "output_type": "stream",
     "text": [
      "carat      0\n",
      "cut        0\n",
      "color      0\n",
      "clarity    0\n",
      "depth      0\n",
      "table      0\n",
      "price      0\n",
      "volume     0\n",
      "dtype: int64\n",
      "carat        0\n",
      "cut          0\n",
      "color        0\n",
      "clarity      0\n",
      "depth        0\n",
      "table        0\n",
      "price      209\n",
      "volume       0\n",
      "dtype: int64\n"
     ]
    }
   ],
   "source": [
    "#count of upper quantiles\n",
    "print(data[data<ll].count())\n",
    "print(data[data>ul].count())"
   ]
  },
  {
   "cell_type": "code",
   "execution_count": 23,
   "id": "d40fe68a",
   "metadata": {},
   "outputs": [
    {
     "data": {
      "text/html": [
       "<div>\n",
       "<style scoped>\n",
       "    .dataframe tbody tr th:only-of-type {\n",
       "        vertical-align: middle;\n",
       "    }\n",
       "\n",
       "    .dataframe tbody tr th {\n",
       "        vertical-align: top;\n",
       "    }\n",
       "\n",
       "    .dataframe thead th {\n",
       "        text-align: right;\n",
       "    }\n",
       "</style>\n",
       "<table border=\"1\" class=\"dataframe\">\n",
       "  <thead>\n",
       "    <tr style=\"text-align: right;\">\n",
       "      <th></th>\n",
       "      <th>carat</th>\n",
       "      <th>depth</th>\n",
       "      <th>table</th>\n",
       "      <th>price</th>\n",
       "      <th>volume</th>\n",
       "    </tr>\n",
       "  </thead>\n",
       "  <tbody>\n",
       "    <tr>\n",
       "      <th>count</th>\n",
       "      <td>44529.000000</td>\n",
       "      <td>44529.000000</td>\n",
       "      <td>44529.000000</td>\n",
       "      <td>44529.000000</td>\n",
       "      <td>44529.000000</td>\n",
       "    </tr>\n",
       "    <tr>\n",
       "      <th>mean</th>\n",
       "      <td>0.678552</td>\n",
       "      <td>61.830546</td>\n",
       "      <td>57.200624</td>\n",
       "      <td>2810.214894</td>\n",
       "      <td>110.596655</td>\n",
       "    </tr>\n",
       "    <tr>\n",
       "      <th>std</th>\n",
       "      <td>0.345708</td>\n",
       "      <td>1.026103</td>\n",
       "      <td>2.000676</td>\n",
       "      <td>2353.554612</td>\n",
       "      <td>55.785350</td>\n",
       "    </tr>\n",
       "    <tr>\n",
       "      <th>min</th>\n",
       "      <td>0.200000</td>\n",
       "      <td>59.300000</td>\n",
       "      <td>52.000000</td>\n",
       "      <td>326.000000</td>\n",
       "      <td>31.707984</td>\n",
       "    </tr>\n",
       "    <tr>\n",
       "      <th>25%</th>\n",
       "      <td>0.360000</td>\n",
       "      <td>61.200000</td>\n",
       "      <td>56.000000</td>\n",
       "      <td>870.000000</td>\n",
       "      <td>59.929794</td>\n",
       "    </tr>\n",
       "    <tr>\n",
       "      <th>50%</th>\n",
       "      <td>0.570000</td>\n",
       "      <td>61.900000</td>\n",
       "      <td>57.000000</td>\n",
       "      <td>1911.000000</td>\n",
       "      <td>93.416706</td>\n",
       "    </tr>\n",
       "    <tr>\n",
       "      <th>75%</th>\n",
       "      <td>1.000000</td>\n",
       "      <td>62.500000</td>\n",
       "      <td>59.000000</td>\n",
       "      <td>4326.000000</td>\n",
       "      <td>160.468581</td>\n",
       "    </tr>\n",
       "    <tr>\n",
       "      <th>max</th>\n",
       "      <td>1.910000</td>\n",
       "      <td>64.400000</td>\n",
       "      <td>63.300000</td>\n",
       "      <td>9724.000000</td>\n",
       "      <td>301.701959</td>\n",
       "    </tr>\n",
       "  </tbody>\n",
       "</table>\n",
       "</div>"
      ],
      "text/plain": [
       "              carat         depth         table         price        volume\n",
       "count  44529.000000  44529.000000  44529.000000  44529.000000  44529.000000\n",
       "mean       0.678552     61.830546     57.200624   2810.214894    110.596655\n",
       "std        0.345708      1.026103      2.000676   2353.554612     55.785350\n",
       "min        0.200000     59.300000     52.000000    326.000000     31.707984\n",
       "25%        0.360000     61.200000     56.000000    870.000000     59.929794\n",
       "50%        0.570000     61.900000     57.000000   1911.000000     93.416706\n",
       "75%        1.000000     62.500000     59.000000   4326.000000    160.468581\n",
       "max        1.910000     64.400000     63.300000   9724.000000    301.701959"
      ]
     },
     "execution_count": 23,
     "metadata": {},
     "output_type": "execute_result"
    }
   ],
   "source": [
    "#5 point summary\n",
    "data.describe()"
   ]
  },
  {
   "cell_type": "code",
   "execution_count": 24,
   "id": "59478ebe",
   "metadata": {},
   "outputs": [],
   "source": [
    "#seperating the numeric and categorical features\n",
    "\n",
    "#numeric Features\n",
    "df_num = data.select_dtypes(include=['int','float'])\n",
    "#categorical features\n",
    "df_cat = data.select_dtypes(include='object')"
   ]
  },
  {
   "cell_type": "code",
   "execution_count": 25,
   "id": "84b94ce2",
   "metadata": {},
   "outputs": [
    {
     "data": {
      "text/html": [
       "<div>\n",
       "<style scoped>\n",
       "    .dataframe tbody tr th:only-of-type {\n",
       "        vertical-align: middle;\n",
       "    }\n",
       "\n",
       "    .dataframe tbody tr th {\n",
       "        vertical-align: top;\n",
       "    }\n",
       "\n",
       "    .dataframe thead th {\n",
       "        text-align: right;\n",
       "    }\n",
       "</style>\n",
       "<table border=\"1\" class=\"dataframe\">\n",
       "  <thead>\n",
       "    <tr style=\"text-align: right;\">\n",
       "      <th></th>\n",
       "      <th>cut</th>\n",
       "      <th>color</th>\n",
       "      <th>clarity</th>\n",
       "    </tr>\n",
       "  </thead>\n",
       "  <tbody>\n",
       "    <tr>\n",
       "      <th>0</th>\n",
       "      <td>4</td>\n",
       "      <td>5</td>\n",
       "      <td>2</td>\n",
       "    </tr>\n",
       "    <tr>\n",
       "      <th>1</th>\n",
       "      <td>3</td>\n",
       "      <td>5</td>\n",
       "      <td>3</td>\n",
       "    </tr>\n",
       "    <tr>\n",
       "      <th>3</th>\n",
       "      <td>3</td>\n",
       "      <td>1</td>\n",
       "      <td>4</td>\n",
       "    </tr>\n",
       "    <tr>\n",
       "      <th>4</th>\n",
       "      <td>1</td>\n",
       "      <td>0</td>\n",
       "      <td>2</td>\n",
       "    </tr>\n",
       "    <tr>\n",
       "      <th>5</th>\n",
       "      <td>2</td>\n",
       "      <td>0</td>\n",
       "      <td>6</td>\n",
       "    </tr>\n",
       "  </tbody>\n",
       "</table>\n",
       "</div>"
      ],
      "text/plain": [
       "   cut  color  clarity\n",
       "0    4      5        2\n",
       "1    3      5        3\n",
       "3    3      1        4\n",
       "4    1      0        2\n",
       "5    2      0        6"
      ]
     },
     "execution_count": 25,
     "metadata": {},
     "output_type": "execute_result"
    }
   ],
   "source": [
    "#Ordinal Encoding\n",
    "#Replacing the categorical value colour, cut and clarity without using built in function for categorical data\n",
    "df_cat=df_cat.replace({'color' : { 'D' : 6, 'E' : 5, 'F' : 4, 'G' : 3, 'H': 2, 'I':1, 'J':0}})\n",
    "df_cat=df_cat.replace({'cut': {'Ideal':4, 'Premium': 3, 'Very Good':2, 'Good':1, 'Fair':0}})\n",
    "df_cat=df_cat.replace({'clarity': {\"IF\": 8, 'VVS1' :7, 'VVS2': 6, 'VS1': 5, 'VS2': 4, 'SI1':3, 'SI2': 2, 'I1':1, 'I2':0, 'I3':0}})\n",
    "#Visualize the data frame\n",
    "df_cat.head()"
   ]
  },
  {
   "cell_type": "raw",
   "id": "3ebb0f07",
   "metadata": {},
   "source": [
    "#dropping the label from the num features\n",
    "df_num = df_num.drop(columns = ['price'])"
   ]
  },
  {
   "cell_type": "raw",
   "id": "b1f618a1",
   "metadata": {},
   "source": [
    "#multicolinearity check\n",
    "vif_1 = pd.DataFrame()\n",
    "vif_1['variable'] = df_num.columns\n",
    "vif_1['VIF'] = [variance_inflation_factor(df_num.values, i) for i in range(df_num.shape[1])]\n",
    "vif_1"
   ]
  },
  {
   "cell_type": "code",
   "execution_count": 26,
   "id": "08d04717",
   "metadata": {},
   "outputs": [
    {
     "data": {
      "text/html": [
       "<div>\n",
       "<style scoped>\n",
       "    .dataframe tbody tr th:only-of-type {\n",
       "        vertical-align: middle;\n",
       "    }\n",
       "\n",
       "    .dataframe tbody tr th {\n",
       "        vertical-align: top;\n",
       "    }\n",
       "\n",
       "    .dataframe thead th {\n",
       "        text-align: right;\n",
       "    }\n",
       "</style>\n",
       "<table border=\"1\" class=\"dataframe\">\n",
       "  <thead>\n",
       "    <tr style=\"text-align: right;\">\n",
       "      <th></th>\n",
       "      <th>carat</th>\n",
       "      <th>depth</th>\n",
       "      <th>table</th>\n",
       "      <th>price</th>\n",
       "      <th>volume</th>\n",
       "      <th>cut</th>\n",
       "      <th>color</th>\n",
       "      <th>clarity</th>\n",
       "    </tr>\n",
       "  </thead>\n",
       "  <tbody>\n",
       "    <tr>\n",
       "      <th>0</th>\n",
       "      <td>0.23</td>\n",
       "      <td>61.5</td>\n",
       "      <td>55.0</td>\n",
       "      <td>326</td>\n",
       "      <td>38.202030</td>\n",
       "      <td>4</td>\n",
       "      <td>5</td>\n",
       "      <td>2</td>\n",
       "    </tr>\n",
       "    <tr>\n",
       "      <th>1</th>\n",
       "      <td>0.21</td>\n",
       "      <td>59.8</td>\n",
       "      <td>61.0</td>\n",
       "      <td>326</td>\n",
       "      <td>34.505856</td>\n",
       "      <td>3</td>\n",
       "      <td>5</td>\n",
       "      <td>3</td>\n",
       "    </tr>\n",
       "    <tr>\n",
       "      <th>3</th>\n",
       "      <td>0.29</td>\n",
       "      <td>62.4</td>\n",
       "      <td>58.0</td>\n",
       "      <td>334</td>\n",
       "      <td>46.724580</td>\n",
       "      <td>3</td>\n",
       "      <td>1</td>\n",
       "      <td>4</td>\n",
       "    </tr>\n",
       "    <tr>\n",
       "      <th>4</th>\n",
       "      <td>0.31</td>\n",
       "      <td>63.3</td>\n",
       "      <td>58.0</td>\n",
       "      <td>335</td>\n",
       "      <td>51.917250</td>\n",
       "      <td>1</td>\n",
       "      <td>0</td>\n",
       "      <td>2</td>\n",
       "    </tr>\n",
       "    <tr>\n",
       "      <th>5</th>\n",
       "      <td>0.24</td>\n",
       "      <td>62.8</td>\n",
       "      <td>57.0</td>\n",
       "      <td>336</td>\n",
       "      <td>38.693952</td>\n",
       "      <td>2</td>\n",
       "      <td>0</td>\n",
       "      <td>6</td>\n",
       "    </tr>\n",
       "  </tbody>\n",
       "</table>\n",
       "</div>"
      ],
      "text/plain": [
       "   carat  depth  table  price     volume  cut  color  clarity\n",
       "0   0.23   61.5   55.0    326  38.202030    4      5        2\n",
       "1   0.21   59.8   61.0    326  34.505856    3      5        3\n",
       "3   0.29   62.4   58.0    334  46.724580    3      1        4\n",
       "4   0.31   63.3   58.0    335  51.917250    1      0        2\n",
       "5   0.24   62.8   57.0    336  38.693952    2      0        6"
      ]
     },
     "execution_count": 26,
     "metadata": {},
     "output_type": "execute_result"
    }
   ],
   "source": [
    "#concatinating the num and cat\n",
    "df = pd.concat([df_num, df_cat], axis = 1)\n",
    "df.head()"
   ]
  },
  {
   "cell_type": "code",
   "execution_count": 27,
   "id": "90ceaf42",
   "metadata": {},
   "outputs": [],
   "source": [
    "#label\n",
    "Y = data['price']"
   ]
  },
  {
   "cell_type": "code",
   "execution_count": 28,
   "id": "08845897",
   "metadata": {},
   "outputs": [],
   "source": [
    "# splitting the data\n",
    "X_train, X_test, y_train, y_test = train_test_split(df,Y, test_size= 0.2)"
   ]
  },
  {
   "cell_type": "code",
   "execution_count": 29,
   "id": "8f5c57a5",
   "metadata": {},
   "outputs": [
    {
     "data": {
      "text/plain": [
       "LinearRegression()"
      ]
     },
     "execution_count": 29,
     "metadata": {},
     "output_type": "execute_result"
    }
   ],
   "source": [
    "#predecting the by using ML algorithm\n",
    "Lr_model = LinearRegression() #Create a linear regression model\n",
    "Lr_model.fit(X_train,y_train) #fitting the data"
   ]
  },
  {
   "cell_type": "code",
   "execution_count": 30,
   "id": "94047d91",
   "metadata": {},
   "outputs": [],
   "source": [
    "#Predict the value of y based on the train data\n",
    "y_train_pred =  Lr_model.predict(X_train)"
   ]
  },
  {
   "cell_type": "code",
   "execution_count": 31,
   "id": "3fcf8a47",
   "metadata": {},
   "outputs": [
    {
     "name": "stdout",
     "output_type": "stream",
     "text": [
      "Mean Absolute Percentage Error 2.6409557856398098e-15\n",
      "Mean Square Error is 1.4529941689953266e-23\n",
      "Root Mean Square Error is 3.811816061925505e-12\n"
     ]
    }
   ],
   "source": [
    "#performance metrics on train data \n",
    "MAPE_train = mean_absolute_percentage_error(y_train, y_train_pred)\n",
    "MSE_train = mean_squared_error(y_train, y_train_pred)\n",
    "RMSE_train = np.sqrt(MSE_train)\n",
    "print(\"Mean Absolute Percentage Error\", MAPE_train)\n",
    "print(\"Mean Square Error is\", MSE_train)\n",
    "print(\"Root Mean Square Error is\", RMSE_train)"
   ]
  },
  {
   "cell_type": "code",
   "execution_count": 32,
   "id": "6beb5b03",
   "metadata": {},
   "outputs": [],
   "source": [
    "#Predict the value of y based on the test data\n",
    "y_test_pred =  Lr_model.predict(X_test)"
   ]
  },
  {
   "cell_type": "code",
   "execution_count": 33,
   "id": "dce788d3",
   "metadata": {},
   "outputs": [
    {
     "name": "stdout",
     "output_type": "stream",
     "text": [
      "Mean Absolute Percentage Error 2.642350993648762e-15\n",
      "Mean Square Error is 1.4146551870054387e-23\n",
      "Root Mean Square Error is 3.7611902198711496e-12\n"
     ]
    }
   ],
   "source": [
    "#performance metrics on train data \n",
    "MAPE_test = mean_absolute_percentage_error(y_test, y_test_pred)\n",
    "MSE_test = mean_squared_error(y_test, y_test_pred)\n",
    "RMSE_test = np.sqrt(MSE_test)\n",
    "print(\"Mean Absolute Percentage Error\", MAPE_test)\n",
    "print(\"Mean Square Error is\", MSE_test)\n",
    "print(\"Root Mean Square Error is\", RMSE_test)"
   ]
  },
  {
   "cell_type": "markdown",
   "id": "ef43126d",
   "metadata": {},
   "source": [
    "##### Pickle File"
   ]
  },
  {
   "cell_type": "code",
   "execution_count": 34,
   "id": "2732a342",
   "metadata": {},
   "outputs": [],
   "source": [
    "import pickle\n",
    "\n",
    "# Save the trained model as a pickle file\n",
    "with open('Prediction_model.pkl', 'wb') as f:\n",
    "    pickle.dump(Lr_model, f)"
   ]
  },
  {
   "cell_type": "code",
   "execution_count": null,
   "id": "d5941684",
   "metadata": {},
   "outputs": [],
   "source": []
  }
 ],
 "metadata": {
  "kernelspec": {
   "display_name": "Python 3 (ipykernel)",
   "language": "python",
   "name": "python3"
  },
  "language_info": {
   "codemirror_mode": {
    "name": "ipython",
    "version": 3
   },
   "file_extension": ".py",
   "mimetype": "text/x-python",
   "name": "python",
   "nbconvert_exporter": "python",
   "pygments_lexer": "ipython3",
   "version": "3.9.13"
  }
 },
 "nbformat": 4,
 "nbformat_minor": 5
}
